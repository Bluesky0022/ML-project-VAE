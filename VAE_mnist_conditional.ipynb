{
 "cells": [
  {
   "cell_type": "code",
   "execution_count": 1,
   "metadata": {},
   "outputs": [
    {
     "name": "stderr",
     "output_type": "stream",
     "text": [
      "Using TensorFlow backend.\n"
     ]
    }
   ],
   "source": [
    "from __future__ import absolute_import\n",
    "from __future__ import division\n",
    "from __future__ import print_function\n",
    "\n",
    "from keras.layers import Conv2D,Conv2DTranspose,Flatten,Lambda, Input, Dense,Reshape\n",
    "from keras.models import Model\n",
    "from keras.datasets import mnist\n",
    "from keras.losses import mse, binary_crossentropy\n",
    "from keras.utils import plot_model\n",
    "from keras import backend as K\n",
    "from keras import optimizers\n",
    "\n",
    "import numpy as np\n",
    "import matplotlib.pyplot as plt\n",
    "import argparse\n",
    "import os\n",
    "from keras.layers.merge import concatenate\n",
    "from keras.utils import to_categorical"
   ]
  },
  {
   "cell_type": "code",
   "execution_count": 2,
   "metadata": {},
   "outputs": [],
   "source": [
    "def sampling(args):\n",
    "    z_mean,var_log = args\n",
    "    batch=K.shape(z_mean)[0]\n",
    "    dim=K.int_shape(z_mean)[1]\n",
    "    epsilon=K.random_normal(shape=(batch,dim))\n",
    "    return z_mean+K.exp(0.5*var_log)*epsilon"
   ]
  },
  {
   "cell_type": "code",
   "execution_count": 3,
   "metadata": {},
   "outputs": [
    {
     "name": "stdout",
     "output_type": "stream",
     "text": [
      "10\n"
     ]
    }
   ],
   "source": [
    "# MNIST dataset\n",
    "(x_train, y_train), (x_test, y_test) = mnist.load_data()\n",
    "\n",
    "imag_size = x_train.shape[1]\n",
    "x_train = np.reshape(x_train, [-1, imag_size,imag_size,1])\n",
    "x_test = np.reshape(x_test, [-1,  imag_size,imag_size,1])\n",
    "x_train = x_train.astype('float32') / 255\n",
    "x_test = x_test.astype('float32') / 255\n",
    "\n",
    "num_labels=len(np.unique(y_train))\n",
    "print(num_labels)\n",
    "label_shape=(num_labels,)\n",
    "\n",
    "y_train=to_categorical(y_train)\n",
    "y_test=to_categorical(y_test)\n",
    "\n",
    "# network parameters\n",
    "batch_size = 128\n",
    "dim_latent = 20\n",
    "epochs = 50\n",
    "\n"
   ]
  },
  {
   "cell_type": "code",
   "execution_count": 4,
   "metadata": {},
   "outputs": [],
   "source": [
    "def build_encoder(inputs):\n",
    "    #inputs=Input(shape=(imag_size,imag_size,1),name='encoder_input')\n",
    "    z_mean,z_log_var,z,shape0=get_z_sample(inputs)\n",
    "    encoder=Model(inputs,[z_mean,z_log_var,z],name='encoder')\n",
    "    encoder.summary()\n",
    "    return encoder,shape0"
   ]
  },
  {
   "cell_type": "code",
   "execution_count": 5,
   "metadata": {},
   "outputs": [],
   "source": [
    "#encoder,shape0=build_encoder()"
   ]
  },
  {
   "cell_type": "code",
   "execution_count": 6,
   "metadata": {},
   "outputs": [],
   "source": [
    "def build_decoder(inputs,shape0):\n",
    "    #inputs=Input(shape=(dim_latent,),name='latent_input')\n",
    "    x=Dense(shape0[1] * shape0[2] * shape0[3], activation='relu')(inputs)\n",
    "    x=Reshape((shape0[1],shape0[2],shape0[3]))(x)\n",
    "    x=Conv2DTranspose(filters=nfilters_layer[0],kernel_size=3,strides=2,padding='same',activation='relu')(x)\n",
    "    outputs=Conv2DTranspose(filters=1,kernel_size=3,strides=2,padding='same',activation='sigmoid')(x)\n",
    "    decoder=Model(inputs,outputs,name='decoder')\n",
    "    decoder.summary()\n",
    "    return decoder"
   ]
  },
  {
   "cell_type": "code",
   "execution_count": 7,
   "metadata": {},
   "outputs": [],
   "source": [
    "def build_vae_cnn():\n",
    "    inputs=Input(shape=(imag_size,imag_size,1),name='encoder_input')\n",
    "    nfilters_layer=[32,64]\n",
    "    labels=Input(shape=label_shape,name='labels')\n",
    "    x=Dense(imag_size*imag_size)(labels)\n",
    "    x=Reshape((imag_size,imag_size,1))(x)\n",
    "    x=concatenate([inputs,x])\n",
    "    print('x.shape is: '+str(x.shape))\n",
    "    x=Conv2D(filters=nfilters_layer[0],kernel_size=3,strides=2,padding='same',activation='relu')(x)\n",
    "    x=Conv2D(filters=nfilters_layer[1],kernel_size=3,strides=2,padding='same',activation='relu')(x)   \n",
    "    shape0 = K.int_shape(x)\n",
    "    x = Flatten()(x)\n",
    "    x = Dense(int(1.5*dim_latent), activation='relu')(x)\n",
    " \n",
    "    z_mean=Dense(dim_latent,name='z_mean')(x)\n",
    "    z_log_var=Dense(dim_latent,name='z_log_var')(x)\n",
    "    z=Lambda(sampling,output_shape=(dim_latent,),name='layer_z')([z_mean,z_log_var])\n",
    "    encoder = Model([inputs,labels], [z_mean, z_log_var, z], name='encoder')\n",
    "    encoder.summary()\n",
    "    #plot_model(encoder,to_file='vae_encoder_model_cond.png',show_shapes=True)\n",
    "    \n",
    "    latent_inputs = Input(shape=(dim_latent,), name='z_sampling')\n",
    "    x=concatenate([latent_inputs,labels])\n",
    "    print(x.shape)\n",
    "    x = Dense(int(1.5*dim_latent), activation='relu')(x)\n",
    "    x = Dense(shape0[1]*shape0[2]*shape0[3], activation='relu')(x)\n",
    "    x = Reshape((shape0[1], shape0[2], shape0[3]))(x)\n",
    "    x=Conv2DTranspose(filters=nfilters_layer[0],kernel_size=3,strides=2,padding='same',activation='relu')(x)\n",
    "    outputs = Conv2DTranspose(filters=1,kernel_size=3,strides=2, activation='sigmoid',padding='same',name='decoder_output')(x)\n",
    "\n",
    "    # instantiate decoder model\n",
    "    decoder = Model([latent_inputs,labels], outputs, name='decoder')\n",
    "    decoder.summary()\n",
    "    #plot_model(decoder,to_file='vae_decoder_model_cond.png',show_shapes=True)\n",
    "    \n",
    "    outputs = decoder([encoder([inputs,labels])[2],labels])\n",
    "    vae = Model([inputs,labels], outputs, name='vae_model_cond')\n",
    "    #plot_model(vae,to_file='vae_model_cond.png',show_shapes=True)\n",
    "\n",
    "    def vae_loss(inputs,outputs):\n",
    "        reconstruction_loss = binary_crossentropy(K.flatten(inputs),K.flatten(outputs))\n",
    "        reconstruction_loss*= imag_size * imag_size\n",
    "        kl_loss = 1 + z_log_var - K.square(z_mean) - K.exp(z_log_var)\n",
    "        kl_loss = K.sum(kl_loss, axis=-1)\n",
    "        kl_loss *= -0.5\n",
    "        loss = K.mean(reconstruction_loss + kl_loss)\n",
    "        return loss\n",
    "    \n",
    "    vae.compile(optimizer='adam',loss=vae_loss)\n",
    "    return vae"
   ]
  },
  {
   "cell_type": "code",
   "execution_count": 8,
   "metadata": {},
   "outputs": [
    {
     "name": "stdout",
     "output_type": "stream",
     "text": [
      "x.shape is: (?, 28, 28, 2)\n",
      "WARNING:tensorflow:From /Users/Bluesky/anaconda/lib/python3.6/site-packages/keras/backend/tensorflow_backend.py:1264: calling reduce_prod (from tensorflow.python.ops.math_ops) with keep_dims is deprecated and will be removed in a future version.\n",
      "Instructions for updating:\n",
      "keep_dims is deprecated, use keepdims instead\n",
      "__________________________________________________________________________________________________\n",
      "Layer (type)                    Output Shape         Param #     Connected to                     \n",
      "==================================================================================================\n",
      "labels (InputLayer)             (None, 10)           0                                            \n",
      "__________________________________________________________________________________________________\n",
      "dense_1 (Dense)                 (None, 784)          8624        labels[0][0]                     \n",
      "__________________________________________________________________________________________________\n",
      "encoder_input (InputLayer)      (None, 28, 28, 1)    0                                            \n",
      "__________________________________________________________________________________________________\n",
      "reshape_1 (Reshape)             (None, 28, 28, 1)    0           dense_1[0][0]                    \n",
      "__________________________________________________________________________________________________\n",
      "concatenate_1 (Concatenate)     (None, 28, 28, 2)    0           encoder_input[0][0]              \n",
      "                                                                 reshape_1[0][0]                  \n",
      "__________________________________________________________________________________________________\n",
      "conv2d_1 (Conv2D)               (None, 14, 14, 32)   608         concatenate_1[0][0]              \n",
      "__________________________________________________________________________________________________\n",
      "conv2d_2 (Conv2D)               (None, 7, 7, 64)     18496       conv2d_1[0][0]                   \n",
      "__________________________________________________________________________________________________\n",
      "flatten_1 (Flatten)             (None, 3136)         0           conv2d_2[0][0]                   \n",
      "__________________________________________________________________________________________________\n",
      "dense_2 (Dense)                 (None, 30)           94110       flatten_1[0][0]                  \n",
      "__________________________________________________________________________________________________\n",
      "z_mean (Dense)                  (None, 20)           620         dense_2[0][0]                    \n",
      "__________________________________________________________________________________________________\n",
      "z_log_var (Dense)               (None, 20)           620         dense_2[0][0]                    \n",
      "__________________________________________________________________________________________________\n",
      "layer_z (Lambda)                (None, 20)           0           z_mean[0][0]                     \n",
      "                                                                 z_log_var[0][0]                  \n",
      "==================================================================================================\n",
      "Total params: 123,078\n",
      "Trainable params: 123,078\n",
      "Non-trainable params: 0\n",
      "__________________________________________________________________________________________________\n",
      "(?, 30)\n",
      "__________________________________________________________________________________________________\n",
      "Layer (type)                    Output Shape         Param #     Connected to                     \n",
      "==================================================================================================\n",
      "z_sampling (InputLayer)         (None, 20)           0                                            \n",
      "__________________________________________________________________________________________________\n",
      "labels (InputLayer)             (None, 10)           0                                            \n",
      "__________________________________________________________________________________________________\n",
      "concatenate_2 (Concatenate)     (None, 30)           0           z_sampling[0][0]                 \n",
      "                                                                 labels[0][0]                     \n",
      "__________________________________________________________________________________________________\n",
      "dense_3 (Dense)                 (None, 30)           930         concatenate_2[0][0]              \n",
      "__________________________________________________________________________________________________\n",
      "dense_4 (Dense)                 (None, 3136)         97216       dense_3[0][0]                    \n",
      "__________________________________________________________________________________________________\n",
      "reshape_2 (Reshape)             (None, 7, 7, 64)     0           dense_4[0][0]                    \n",
      "__________________________________________________________________________________________________\n",
      "conv2d_transpose_1 (Conv2DTrans (None, 14, 14, 32)   18464       reshape_2[0][0]                  \n",
      "__________________________________________________________________________________________________\n",
      "decoder_output (Conv2DTranspose (None, 28, 28, 1)    289         conv2d_transpose_1[0][0]         \n",
      "==================================================================================================\n",
      "Total params: 116,899\n",
      "Trainable params: 116,899\n",
      "Non-trainable params: 0\n",
      "__________________________________________________________________________________________________\n",
      "WARNING:tensorflow:From /Users/Bluesky/anaconda/lib/python3.6/site-packages/keras/backend/tensorflow_backend.py:1349: calling reduce_mean (from tensorflow.python.ops.math_ops) with keep_dims is deprecated and will be removed in a future version.\n",
      "Instructions for updating:\n",
      "keep_dims is deprecated, use keepdims instead\n",
      "WARNING:tensorflow:From /Users/Bluesky/anaconda/lib/python3.6/site-packages/keras/backend/tensorflow_backend.py:1247: calling reduce_sum (from tensorflow.python.ops.math_ops) with keep_dims is deprecated and will be removed in a future version.\n",
      "Instructions for updating:\n",
      "keep_dims is deprecated, use keepdims instead\n",
      "__________________________________________________________________________________________________\n",
      "Layer (type)                    Output Shape         Param #     Connected to                     \n",
      "==================================================================================================\n",
      "encoder_input (InputLayer)      (None, 28, 28, 1)    0                                            \n",
      "__________________________________________________________________________________________________\n",
      "labels (InputLayer)             (None, 10)           0                                            \n",
      "__________________________________________________________________________________________________\n",
      "encoder (Model)                 [(None, 20), (None,  123078      encoder_input[0][0]              \n",
      "                                                                 labels[0][0]                     \n",
      "__________________________________________________________________________________________________\n",
      "decoder (Model)                 (None, 28, 28, 1)    116899      encoder[1][2]                    \n",
      "                                                                 labels[0][0]                     \n",
      "==================================================================================================\n",
      "Total params: 239,977\n",
      "Trainable params: 239,977\n",
      "Non-trainable params: 0\n",
      "__________________________________________________________________________________________________\n"
     ]
    }
   ],
   "source": [
    "vae=build_vae_cnn()\n",
    "vae.summary()"
   ]
  },
  {
   "cell_type": "code",
   "execution_count": 12,
   "metadata": {},
   "outputs": [
    {
     "name": "stdout",
     "output_type": "stream",
     "text": [
      "Train on 60000 samples, validate on 10000 samples\n",
      "Epoch 1/50\n",
      "60000/60000 [==============================] - 34s 570us/step - loss: 198.9426 - val_loss: 152.1080\n",
      "Epoch 2/50\n",
      "60000/60000 [==============================] - 31s 525us/step - loss: 136.2110 - val_loss: 125.3771\n",
      "Epoch 3/50\n",
      "60000/60000 [==============================] - 32s 535us/step - loss: 120.9033 - val_loss: 115.4177\n",
      "Epoch 4/50\n",
      "60000/60000 [==============================] - 52s 866us/step - loss: 113.6552 - val_loss: 110.4215\n",
      "Epoch 5/50\n",
      "60000/60000 [==============================] - 60s 1ms/step - loss: 109.4251 - val_loss: 107.7946\n",
      "Epoch 6/50\n",
      "60000/60000 [==============================] - 61s 1ms/step - loss: 106.8573 - val_loss: 105.0328\n",
      "Epoch 7/50\n",
      "60000/60000 [==============================] - 63s 1ms/step - loss: 105.1565 - val_loss: 103.9640\n",
      "Epoch 8/50\n",
      "60000/60000 [==============================] - 60s 1ms/step - loss: 104.0359 - val_loss: 102.6565\n",
      "Epoch 9/50\n",
      "60000/60000 [==============================] - 60s 1ms/step - loss: 103.1417 - val_loss: 102.3050\n",
      "Epoch 10/50\n",
      "60000/60000 [==============================] - 63s 1ms/step - loss: 102.4137 - val_loss: 101.4018\n",
      "Epoch 11/50\n",
      "60000/60000 [==============================] - 61s 1ms/step - loss: 101.7831 - val_loss: 101.2255\n",
      "Epoch 12/50\n",
      "60000/60000 [==============================] - 61s 1ms/step - loss: 101.2680 - val_loss: 100.5693\n",
      "Epoch 13/50\n",
      "60000/60000 [==============================] - 63s 1ms/step - loss: 100.8684 - val_loss: 100.3604\n",
      "Epoch 14/50\n",
      "60000/60000 [==============================] - 60s 993us/step - loss: 100.5171 - val_loss: 99.8307\n",
      "Epoch 15/50\n",
      "60000/60000 [==============================] - 60s 1ms/step - loss: 100.0969 - val_loss: 99.5313\n",
      "Epoch 16/50\n",
      "60000/60000 [==============================] - 63s 1ms/step - loss: 99.8156 - val_loss: 99.1683\n",
      "Epoch 17/50\n",
      "60000/60000 [==============================] - 61s 1ms/step - loss: 99.5484 - val_loss: 99.1714\n",
      "Epoch 18/50\n",
      "60000/60000 [==============================] - 61s 1ms/step - loss: 99.3021 - val_loss: 98.9062\n",
      "Epoch 19/50\n",
      "60000/60000 [==============================] - 62s 1ms/step - loss: 99.0152 - val_loss: 98.6770\n",
      "Epoch 20/50\n",
      "60000/60000 [==============================] - 60s 1ms/step - loss: 98.8056 - val_loss: 98.4042\n",
      "Epoch 21/50\n",
      "60000/60000 [==============================] - 62s 1ms/step - loss: 98.6147 - val_loss: 98.2102\n",
      "Epoch 22/50\n",
      "60000/60000 [==============================] - 61s 1ms/step - loss: 98.4158 - val_loss: 98.2682\n",
      "Epoch 23/50\n",
      "60000/60000 [==============================] - 61s 1ms/step - loss: 98.2479 - val_loss: 98.3450\n",
      "Epoch 24/50\n",
      "60000/60000 [==============================] - 61s 1ms/step - loss: 97.9964 - val_loss: 97.8285\n",
      "Epoch 25/50\n",
      "60000/60000 [==============================] - 61s 1ms/step - loss: 97.9338 - val_loss: 97.7537\n",
      "Epoch 26/50\n",
      "60000/60000 [==============================] - 61s 1ms/step - loss: 97.7135 - val_loss: 97.5976\n",
      "Epoch 27/50\n",
      "60000/60000 [==============================] - 63s 1ms/step - loss: 97.6132 - val_loss: 97.4421\n",
      "Epoch 28/50\n",
      "60000/60000 [==============================] - 60s 1ms/step - loss: 97.4772 - val_loss: 97.4218\n",
      "Epoch 29/50\n",
      "60000/60000 [==============================] - 60s 1ms/step - loss: 97.2923 - val_loss: 97.2881\n",
      "Epoch 30/50\n",
      "60000/60000 [==============================] - 63s 1ms/step - loss: 97.2318 - val_loss: 97.1026\n",
      "Epoch 31/50\n",
      "60000/60000 [==============================] - 61s 1ms/step - loss: 97.0817 - val_loss: 97.0803\n",
      "Epoch 32/50\n",
      "60000/60000 [==============================] - 60s 1ms/step - loss: 96.9765 - val_loss: 97.0425\n",
      "Epoch 33/50\n",
      "60000/60000 [==============================] - 63s 1ms/step - loss: 96.8944 - val_loss: 97.0476\n",
      "Epoch 34/50\n",
      "60000/60000 [==============================] - 60s 998us/step - loss: 96.7827 - val_loss: 96.9777\n",
      "Epoch 35/50\n",
      "60000/60000 [==============================] - 61s 1ms/step - loss: 96.6993 - val_loss: 97.2959\n",
      "Epoch 36/50\n",
      "60000/60000 [==============================] - 62s 1ms/step - loss: 96.6097 - val_loss: 96.7204\n",
      "Epoch 37/50\n",
      "60000/60000 [==============================] - 60s 1ms/step - loss: 96.4842 - val_loss: 96.5966\n",
      "Epoch 38/50\n",
      "60000/60000 [==============================] - 61s 1ms/step - loss: 96.4021 - val_loss: 96.6065\n",
      "Epoch 39/50\n",
      "60000/60000 [==============================] - 63s 1ms/step - loss: 96.3368 - val_loss: 96.2721\n",
      "Epoch 40/50\n",
      "60000/60000 [==============================] - 61s 1ms/step - loss: 96.2569 - val_loss: 96.3902\n",
      "Epoch 41/50\n",
      "60000/60000 [==============================] - 61s 1ms/step - loss: 96.1600 - val_loss: 96.3200\n",
      "Epoch 42/50\n",
      "60000/60000 [==============================] - 63s 1ms/step - loss: 96.1134 - val_loss: 96.3446\n",
      "Epoch 43/50\n",
      "60000/60000 [==============================] - 61s 1ms/step - loss: 96.0495 - val_loss: 96.3430\n",
      "Epoch 44/50\n",
      "60000/60000 [==============================] - 59s 991us/step - loss: 95.9862 - val_loss: 96.1634\n",
      "Epoch 45/50\n",
      "60000/60000 [==============================] - 63s 1ms/step - loss: 95.8808 - val_loss: 96.0166\n",
      "Epoch 46/50\n",
      "60000/60000 [==============================] - 60s 1ms/step - loss: 95.8750 - val_loss: 96.0894\n",
      "Epoch 47/50\n",
      "60000/60000 [==============================] - 61s 1ms/step - loss: 95.7903 - val_loss: 96.0732\n",
      "Epoch 48/50\n",
      "60000/60000 [==============================] - 63s 1ms/step - loss: 95.7688 - val_loss: 96.1364\n",
      "Epoch 49/50\n",
      "60000/60000 [==============================] - 62s 1ms/step - loss: 95.6720 - val_loss: 95.9269\n",
      "Epoch 50/50\n",
      "60000/60000 [==============================] - 61s 1ms/step - loss: 95.6052 - val_loss: 95.8598\n"
     ]
    },
    {
     "data": {
      "text/plain": [
       "<keras.callbacks.History at 0x7f80a943f048>"
      ]
     },
     "execution_count": 12,
     "metadata": {},
     "output_type": "execute_result"
    }
   ],
   "source": [
    "vae.fit([x_train,y_train],x_train,shuffle=True,epochs=epochs,batch_size=batch_size,validation_data=([x_test, y_test], x_test) )    "
   ]
  },
  {
   "cell_type": "code",
   "execution_count": 13,
   "metadata": {},
   "outputs": [],
   "source": [
    "vae.save_weights('vae_model_cond_z20.h5')"
   ]
  },
  {
   "cell_type": "code",
   "execution_count": 14,
   "metadata": {},
   "outputs": [],
   "source": [
    "def plot_figure(models,data,batch_size=32,model_name='vae_mnist'):\n",
    "    encoder,decoder=models\n",
    "    x_test,y_test=data\n",
    "    os.makedirs(model_name,exist_ok=True)\n",
    "    filename=os.path.join(model_name,'vae_mean.png')\n",
    "    z_mean,_,_=encoder.predict([x_test,y_test],batch_size=batch_size)\n",
    "    plt.figure(figsize=(12,10))\n",
    "    plt.scatter(z_mean[:,0],z_mean[:,1],c=y_test)\n",
    "    plt.colorbar()\n",
    "    plt.xlabel('z[0]')\n",
    "    plt.ylabel('z[1]')\n",
    "    plt.savefig(filename)\n",
    "    plt.show()\n",
    "    filename=os.path.join(model_name,\"digits_over_latent.png\")\n",
    "    n=20\n",
    "    digit_size=28\n",
    "    figure=np.zeros((digit_size*n,digit_size*n))\n",
    "    grid_x=np.linspace(-4,4,n)\n",
    "    grid_y=np.linspace(-4,4,n)[:,:,-1]\n",
    "    \n",
    "    for i, yi in enumerate(grid_y):\n",
    "        for j, xi in enumerate(grid_x):\n",
    "            z_sample = np.array([[xi, yi]])\n",
    "            x_decoded = decoder.predict(z_sample)\n",
    "            digit = x_decoded[0].reshape(digit_size, digit_size)\n",
    "            figure[i * digit_size: (i + 1) * digit_size,\n",
    "                   j * digit_size: (j + 1) * digit_size] = digit\n",
    "\n",
    "    plt.figure(figsize=(10, 10))\n",
    "    start_range = digit_size // 2\n",
    "    end_range = n * digit_size + start_range + 1\n",
    "    pixel_range = np.arange(start_range, end_range, digit_size)\n",
    "    sample_range_x = np.round(grid_x, 1)\n",
    "    sample_range_y = np.round(grid_y, 1)\n",
    "    plt.xticks(pixel_range, sample_range_x)\n",
    "    plt.yticks(pixel_range, sample_range_y)\n",
    "    plt.xlabel(\"z[0]\")\n",
    "    plt.ylabel(\"z[1]\")\n",
    "    plt.imshow(figure, cmap='Greys_r')\n",
    "    plt.savefig(filename)\n",
    "    plt.show()"
   ]
  },
  {
   "cell_type": "code",
   "execution_count": 15,
   "metadata": {},
   "outputs": [
    {
     "data": {
      "text/plain": [
       "array([0., 0., 0., 1., 0., 0., 0., 0., 0., 0.])"
      ]
     },
     "execution_count": 15,
     "metadata": {},
     "output_type": "execute_result"
    }
   ],
   "source": [
    "np.eye(10)[3]"
   ]
  },
  {
   "cell_type": "code",
   "execution_count": 43,
   "metadata": {},
   "outputs": [
    {
     "name": "stdout",
     "output_type": "stream",
     "text": [
      "(100, 28, 28, 1)\n"
     ]
    }
   ],
   "source": [
    "nsample=100\n",
    "step=20\n",
    "x_test_sample=x_test[range(0,step*nsample,step),:]\n",
    "test_label=8\n",
    "y_test_label = np.eye(num_labels)[test_label]\n",
    "y_test_label=np.tile(y_test_label,(nsample,1))\n",
    "#print(y_test_label)\n",
    "print(x_test_sample.shape)\n",
    "#x_test_sample=x_test_sample.reshape(-1,784)\n",
    "outputs=vae.predict([x_test_sample,y_test_label],batch_size=batch_size)\n",
    "#outputs=vae.predict([x_test[range(0,step*nsample,step),:],y_test[range(0,step*nsample,step),:]],batch_size)"
   ]
  },
  {
   "cell_type": "code",
   "execution_count": 44,
   "metadata": {
    "scrolled": true
   },
   "outputs": [
    {
     "name": "stdout",
     "output_type": "stream",
     "text": [
      "(100, 28, 28)\n"
     ]
    },
    {
     "data": {
      "image/png": "[encoded data removed]",
      "text/plain": [
       "<Figure size 1080x1080 with 64 Axes>"
      ]
     },
     "metadata": {},
     "output_type": "display_data"
    }
   ],
   "source": [
    "outputs=np.reshape(outputs,[-1,28,28])\n",
    "print(outputs.shape)\n",
    "\n",
    "nrow=8\n",
    "ncol=8\n",
    "plt.figure(figsize=(15,15))\n",
    "for i in range(64):\n",
    "    plt.subplot(nrow,ncol,i+1)\n",
    "    plt.imshow(outputs[i],cmap='gray')\n",
    "    plt.axis('off')\n"
   ]
  },
  {
   "cell_type": "code",
   "execution_count": null,
   "metadata": {},
   "outputs": [],
   "source": []
  },
  {
   "cell_type": "code",
   "execution_count": null,
   "metadata": {},
   "outputs": [],
   "source": []
  }
 ],
 "metadata": {
  "kernelspec": {
   "display_name": "Python 3",
   "language": "python",
   "name": "python3"
  },
  "language_info": {
   "codemirror_mode": {
    "name": "ipython",
    "version": 3
   },
   "file_extension": ".py",
   "mimetype": "text/x-python",
   "name": "python",
   "nbconvert_exporter": "python",
   "pygments_lexer": "ipython3",
   "version": "3.6.7"
  }
 },
 "nbformat": 4,
 "nbformat_minor": 2
}
