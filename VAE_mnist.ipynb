{
 "cells": [
  {
   "cell_type": "code",
   "execution_count": 125,
   "metadata": {},
   "outputs": [],
   "source": [
    "from __future__ import absolute_import\n",
    "from __future__ import division\n",
    "from __future__ import print_function\n",
    "\n",
    "from keras.layers import Lambda, Input, Dense\n",
    "from keras.models import Model\n",
    "from keras.datasets import mnist\n",
    "from keras.losses import mse, binary_crossentropy\n",
    "from keras.utils import plot_model\n",
    "from keras import backend as K\n",
    "\n",
    "import numpy as np\n",
    "import matplotlib.pyplot as plt\n",
    "import argparse\n",
    "import os"
   ]
  },
  {
   "cell_type": "code",
   "execution_count": 126,
   "metadata": {},
   "outputs": [],
   "source": [
    "def sampling(args):\n",
    "    z_mean,var_log = args\n",
    "    batch=K.shape(z_mean)[0]\n",
    "    dim=K.int_shape(z_mean)[1]\n",
    "    epsilon=K.random_normal(shape=(batch,dim))\n",
    "    return z_mean+K.exp(0.5*var_log)*epsilon"
   ]
  },
  {
   "cell_type": "code",
   "execution_count": 127,
   "metadata": {},
   "outputs": [],
   "source": [
    "(x_train,y_train),(x_test,y_test)=mnist.load_data()"
   ]
  },
  {
   "cell_type": "code",
   "execution_count": 128,
   "metadata": {},
   "outputs": [
    {
     "name": "stdout",
     "output_type": "stream",
     "text": [
      "(28, 28)\n"
     ]
    },
    {
     "data": {
      "text/plain": [
       "<matplotlib.image.AxesImage at 0xb27f5c518>"
      ]
     },
     "execution_count": 128,
     "metadata": {},
     "output_type": "execute_result"
    },
    {
     "data": {
      "image/png": "[encoded data removed]",
      "text/plain": [
       "<Figure size 432x288 with 1 Axes>"
      ]
     },
     "metadata": {
      "needs_background": "light"
     },
     "output_type": "display_data"
    }
   ],
   "source": [
    "x_train_sample=x_train[0]\n",
    "print(x_train_sample.shape)\n",
    "#plt.imshow(x_train_sample, cmap='gray')\n",
    "plt.imshow(x_train_sample)"
   ]
  },
  {
   "cell_type": "code",
   "execution_count": 129,
   "metadata": {},
   "outputs": [],
   "source": [
    "imag_size=x_train.shape[1]\n",
    "x_train=np.reshape(x_train,[-1,imag_size*imag_size])\n",
    "x_test=np.reshape(x_test,[-1,imag_size*imag_size])\n",
    "x_train=x_train.astype('float32')/255\n",
    "x_test=x_test.astype('float32')/255"
   ]
  },
  {
   "cell_type": "code",
   "execution_count": null,
   "metadata": {},
   "outputs": [],
   "source": []
  },
  {
   "cell_type": "code",
   "execution_count": 130,
   "metadata": {},
   "outputs": [],
   "source": [
    "imag_dim0=imag_size*imag_size\n",
    "input_shape=(imag_dim0,)\n",
    "dim_latent=2\n",
    "epochs=10\n",
    "dim1=128\n",
    "batch_size=64"
   ]
  },
  {
   "cell_type": "code",
   "execution_count": 131,
   "metadata": {},
   "outputs": [],
   "source": [
    "inputs=Input(shape=input_shape,name='encoder_input')\n",
    "x=Dense(dim1,activation='relu')(inputs)\n",
    "z_mean=Dense(dim_latent,name='z_mean')(x)\n",
    "z_log_var=Dense(dim_latent,name='z_log_var')(x)\n",
    "z=Lambda(sampling,output_shape=(dim_latent,),name='layer_z')([z_mean,z_log_var])"
   ]
  },
  {
   "cell_type": "code",
   "execution_count": 132,
   "metadata": {},
   "outputs": [
    {
     "name": "stdout",
     "output_type": "stream",
     "text": [
      "(?, 2)\n"
     ]
    }
   ],
   "source": [
    "print(z.shape)"
   ]
  },
  {
   "cell_type": "code",
   "execution_count": 133,
   "metadata": {},
   "outputs": [
    {
     "name": "stdout",
     "output_type": "stream",
     "text": [
      "__________________________________________________________________________________________________\n",
      "Layer (type)                    Output Shape         Param #     Connected to                     \n",
      "==================================================================================================\n",
      "encoder_input (InputLayer)      (None, 784)          0                                            \n",
      "__________________________________________________________________________________________________\n",
      "dense_13 (Dense)                (None, 128)          100480      encoder_input[0][0]              \n",
      "__________________________________________________________________________________________________\n",
      "z_mean (Dense)                  (None, 2)            258         dense_13[0][0]                   \n",
      "__________________________________________________________________________________________________\n",
      "z_log_var (Dense)               (None, 2)            258         dense_13[0][0]                   \n",
      "__________________________________________________________________________________________________\n",
      "layer_z (Lambda)                (None, 2)            0           z_mean[0][0]                     \n",
      "                                                                 z_log_var[0][0]                  \n",
      "==================================================================================================\n",
      "Total params: 100,996\n",
      "Trainable params: 100,996\n",
      "Non-trainable params: 0\n",
      "__________________________________________________________________________________________________\n"
     ]
    }
   ],
   "source": [
    "encoder = Model(inputs, [z_mean, z_log_var, z], name='encoder')\n",
    "encoder.summary()\n",
    "plot_model(encoder, to_file='vae_mlp_encoder.png', show_shapes=True)\n",
    "#plot_model(encoder, to_file='vae_mlp_encoder.png', show_shapes=True)"
   ]
  },
  {
   "cell_type": "code",
   "execution_count": 134,
   "metadata": {},
   "outputs": [],
   "source": [
    "inputs_latent=Input(shape=(dim_latent,),name='z_sample')\n",
    "x=Dense(dim1,activation='relu')(inputs_latent)\n",
    "outputs=Dense(imag_dim0,activation='sigmoid')(x)\n"
   ]
  },
  {
   "cell_type": "code",
   "execution_count": 135,
   "metadata": {},
   "outputs": [
    {
     "name": "stdout",
     "output_type": "stream",
     "text": [
      "_________________________________________________________________\n",
      "Layer (type)                 Output Shape              Param #   \n",
      "=================================================================\n",
      "z_sample (InputLayer)        (None, 2)                 0         \n",
      "_________________________________________________________________\n",
      "dense_14 (Dense)             (None, 128)               384       \n",
      "_________________________________________________________________\n",
      "dense_15 (Dense)             (None, 784)               101136    \n",
      "=================================================================\n",
      "Total params: 101,520\n",
      "Trainable params: 101,520\n",
      "Non-trainable params: 0\n",
      "_________________________________________________________________\n"
     ]
    }
   ],
   "source": [
    "decoder=Model(inputs_latent,outputs,name='decoder')\n",
    "decoder.summary()\n",
    "plot_model(decoder,to_file='vae_mlp_decoder.png',show_shapes=True)"
   ]
  },
  {
   "cell_type": "code",
   "execution_count": 136,
   "metadata": {},
   "outputs": [],
   "source": [
    "outputs=decoder(encoder(inputs)[2])\n",
    "vae=Model(inputs,outputs,name='vae')"
   ]
  },
  {
   "cell_type": "code",
   "execution_count": 137,
   "metadata": {},
   "outputs": [
    {
     "name": "stdout",
     "output_type": "stream",
     "text": [
      "(?, 784)\n"
     ]
    }
   ],
   "source": [
    "print(outputs.shape)"
   ]
  },
  {
   "cell_type": "code",
   "execution_count": 138,
   "metadata": {},
   "outputs": [],
   "source": [
    "def vae_loss(x,y):\n",
    "    reconstruction_loss = binary_crossentropy(inputs,outputs)\n",
    "    kl_loss = 1 + z_log_var - K.square(z_mean) - K.exp(z_log_var)\n",
    "    kl_loss = K.sum(kl_loss, axis=-1)\n",
    "    kl_loss *= -0.5\n",
    "    loss = K.mean(reconstruction_loss + kl_loss)\n",
    "    return loss"
   ]
  },
  {
   "cell_type": "code",
   "execution_count": 139,
   "metadata": {},
   "outputs": [],
   "source": [
    "models=(encoder,decoder)\n",
    "#data=(x_test,y_test)\n",
    "vae.compile(optimizer='adam',loss=vae_loss)\n"
   ]
  },
  {
   "cell_type": "code",
   "execution_count": 140,
   "metadata": {},
   "outputs": [
    {
     "name": "stdout",
     "output_type": "stream",
     "text": [
      "Train on 60000 samples, validate on 10000 samples\n",
      "Epoch 1/10\n",
      "60000/60000 [==============================] - 9s 146us/step - loss: 0.2971 - val_loss: 0.2635\n",
      "Epoch 2/10\n",
      "60000/60000 [==============================] - 8s 133us/step - loss: 0.2634 - val_loss: 0.2628\n",
      "Epoch 3/10\n",
      "60000/60000 [==============================] - 8s 132us/step - loss: 0.2631 - val_loss: 0.2628\n",
      "Epoch 4/10\n",
      "60000/60000 [==============================] - 8s 137us/step - loss: 0.2631 - val_loss: 0.2628\n",
      "Epoch 5/10\n",
      "60000/60000 [==============================] - 8s 140us/step - loss: 0.2631 - val_loss: 0.2629\n",
      "Epoch 6/10\n",
      "60000/60000 [==============================] - 8s 140us/step - loss: 0.2630 - val_loss: 0.2627\n",
      "Epoch 7/10\n",
      "60000/60000 [==============================] - 8s 141us/step - loss: 0.2630 - val_loss: 0.2627\n",
      "Epoch 8/10\n",
      "60000/60000 [==============================] - 9s 144us/step - loss: 0.2630 - val_loss: 0.2628\n",
      "Epoch 9/10\n",
      "60000/60000 [==============================] - 9s 144us/step - loss: 0.2630 - val_loss: 0.2626\n",
      "Epoch 10/10\n",
      "60000/60000 [==============================] - 8s 137us/step - loss: 0.2630 - val_loss: 0.2626\n"
     ]
    },
    {
     "data": {
      "text/plain": [
       "<keras.callbacks.History at 0xb29a14668>"
      ]
     },
     "execution_count": 140,
     "metadata": {},
     "output_type": "execute_result"
    }
   ],
   "source": [
    "vae.fit(x_train, x_train,shuffle=True,epochs=epochs,batch_size=batch_size,validation_data=(x_test, x_test))     \n"
   ]
  },
  {
   "cell_type": "code",
   "execution_count": 148,
   "metadata": {},
   "outputs": [],
   "source": [
    "vae.save_weights('vae_mnist.h5')"
   ]
  },
  {
   "cell_type": "code",
   "execution_count": 141,
   "metadata": {},
   "outputs": [
    {
     "name": "stdout",
     "output_type": "stream",
     "text": [
      "_________________________________________________________________\n",
      "Layer (type)                 Output Shape              Param #   \n",
      "=================================================================\n",
      "encoder_input (InputLayer)   (None, 784)               0         \n",
      "_________________________________________________________________\n",
      "encoder (Model)              [(None, 2), (None, 2), (N 100996    \n",
      "_________________________________________________________________\n",
      "decoder (Model)              (None, 784)               101520    \n",
      "=================================================================\n",
      "Total params: 202,516\n",
      "Trainable params: 202,516\n",
      "Non-trainable params: 0\n",
      "_________________________________________________________________\n"
     ]
    }
   ],
   "source": [
    "vae.summary()\n",
    "plot_model(vae,to_file='vae_mlp.png',show_shapes=True)\n",
    "#vae.fit(x_train,epochs=epochs,batch_size=batch_size,validation_data=(x_test,None))"
   ]
  },
  {
   "cell_type": "code",
   "execution_count": 142,
   "metadata": {},
   "outputs": [],
   "source": [
    "def plot_figure(models,data,batch_size=32,model_name='vae_mnist'):\n",
    "    encoder,decoder=models\n",
    "    x_test,y_test=data\n",
    "    os.makedirs(model_name,exist_ok=True)\n",
    "    filename=os.path.join(model_name,'vae_mean.png')\n",
    "    z_mean,_,_=encoder.predict(x_test,batch_size=batch_size)\n",
    "    plt.figure(figsize=(12,10))\n",
    "    plt.scatter(z_mean[:,0],z_mean[:,1],c=y_test)\n",
    "    plt.colorbar()\n",
    "    plt.xlabel('z[0]')\n",
    "    plt.ylabel('z[1]')\n",
    "    plt.savefig(filename)\n",
    "    plt.show()\n",
    "    filename=os.path.join(model_name,\"digits_over_latent.png\")\n",
    "    n=20\n",
    "    digit_size=28\n",
    "    figure=np.zeros((digit_size*n,digit_size*n))\n",
    "    grid_x=np.linspace(-4,4,n)\n",
    "    grid_y=np.linspace(-4,4,n)[:,:,-1]\n",
    "    \n",
    "    for i, yi in enumerate(grid_y):\n",
    "        for j, xi in enumerate(grid_x):\n",
    "            z_sample = np.array([[xi, yi]])\n",
    "            x_decoded = decoder.predict(z_sample)\n",
    "            digit = x_decoded[0].reshape(digit_size, digit_size)\n",
    "            figure[i * digit_size: (i + 1) * digit_size,\n",
    "                   j * digit_size: (j + 1) * digit_size] = digit\n",
    "\n",
    "    plt.figure(figsize=(10, 10))\n",
    "    start_range = digit_size // 2\n",
    "    end_range = n * digit_size + start_range + 1\n",
    "    pixel_range = np.arange(start_range, end_range, digit_size)\n",
    "    sample_range_x = np.round(grid_x, 1)\n",
    "    sample_range_y = np.round(grid_y, 1)\n",
    "    plt.xticks(pixel_range, sample_range_x)\n",
    "    plt.yticks(pixel_range, sample_range_y)\n",
    "    plt.xlabel(\"z[0]\")\n",
    "    plt.ylabel(\"z[1]\")\n",
    "    plt.imshow(figure, cmap='Greys_r')\n",
    "    plt.savefig(filename)\n",
    "    plt.show()"
   ]
  },
  {
   "cell_type": "code",
   "execution_count": 143,
   "metadata": {},
   "outputs": [],
   "source": [
    "#plot_figure(models,data,batch_size=batch_size,model_name=\"vae_mlp\")"
   ]
  },
  {
   "cell_type": "code",
   "execution_count": 144,
   "metadata": {},
   "outputs": [
    {
     "name": "stdout",
     "output_type": "stream",
     "text": [
      "(100, 784)\n"
     ]
    }
   ],
   "source": [
    "nsample=100\n",
    "step=20\n",
    "x_test_sample=x_test[range(0,step*nsample,step),:]\n",
    "print(x_test_sample.shape)\n",
    "x_test_sample=x_test_sample.reshape(-1,784)\n",
    "outputs=vae.predict(x_test_sample,batch_size)"
   ]
  },
  {
   "cell_type": "code",
   "execution_count": 145,
   "metadata": {},
   "outputs": [
    {
     "name": "stdout",
     "output_type": "stream",
     "text": [
      "(100, 28, 28)\n"
     ]
    },
    {
     "data": {
      "image/png": "[encoded data removed]",
      "text/plain": [
       "<Figure size 144x144 with 100 Axes>"
      ]
     },
     "metadata": {
      "needs_background": "light"
     },
     "output_type": "display_data"
    }
   ],
   "source": [
    "outputs=np.reshape(outputs,[-1,28,28])\n",
    "print(outputs.shape)\n",
    "\n",
    "nrow=10\n",
    "ncol=10\n",
    "plt.figure(figsize=(2,2))\n",
    "for i in range(outputs.shape[0]):\n",
    "    plt.subplot(nrow,ncol,i+1)\n",
    "    plt.imshow(outputs[i],cmap='gray')\n",
    "    plt.axis('off')\n"
   ]
  },
  {
   "cell_type": "code",
   "execution_count": 146,
   "metadata": {},
   "outputs": [],
   "source": [
    "out_encoder=encoder.predict(x_test_sample,batch_size)"
   ]
  },
  {
   "cell_type": "code",
   "execution_count": 147,
   "metadata": {},
   "outputs": [
    {
     "name": "stdout",
     "output_type": "stream",
     "text": [
      "[[-8.79805375e-05  2.59368913e-04]\n",
      " [-8.79805375e-05  2.59368913e-04]\n",
      " [-1.36786920e-03 -7.75014982e-03]\n",
      " [-8.79805375e-05  2.59368913e-04]\n",
      " [-8.79805375e-05  2.59368913e-04]\n",
      " [-8.79805375e-05  2.59368913e-04]\n",
      " [-8.79805375e-05  2.59368913e-04]\n",
      " [ 4.93212356e-05 -1.15303497e-04]\n",
      " [-8.79805375e-05  2.59368913e-04]\n",
      " [-8.79805375e-05  2.59368913e-04]\n",
      " [-8.79805375e-05  2.59368913e-04]\n",
      " [-8.79805375e-05  2.59368913e-04]\n",
      " [-8.79805375e-05  2.59368913e-04]\n",
      " [-8.79805375e-05  2.59368913e-04]\n",
      " [-8.79805375e-05  2.59368913e-04]\n",
      " [-8.79805375e-05  2.59368913e-04]\n",
      " [-8.79805375e-05  2.59368913e-04]\n",
      " [-8.79805375e-05  2.59368913e-04]\n",
      " [ 7.25769321e-04 -1.96121144e-03]\n",
      " [ 1.10470748e-03 -2.56418157e-03]\n",
      " [ 6.79767036e-05 -1.66211015e-04]\n",
      " [ 3.72459908e-04 -9.97092109e-04]\n",
      " [ 7.35479407e-04 -1.98770850e-03]\n",
      " [-8.79805375e-05  2.59368913e-04]\n",
      " [-8.79805375e-05  2.59368913e-04]\n",
      " [-8.79805375e-05  2.59368913e-04]\n",
      " [-8.79805375e-05  2.59368913e-04]\n",
      " [-8.79805375e-05  2.59368913e-04]\n",
      " [-8.79805375e-05  2.59368913e-04]\n",
      " [-8.79805375e-05  2.59368913e-04]\n",
      " [-8.79805375e-05  2.59368913e-04]\n",
      " [ 3.21971675e-05 -6.85749401e-05]\n",
      " [-8.79805375e-05  2.59368913e-04]\n",
      " [-8.79805375e-05  2.59368913e-04]\n",
      " [-8.79805375e-05  2.59368913e-04]\n",
      " [-8.79805375e-05  2.59368913e-04]\n",
      " [ 3.30699811e-04 -8.83136177e-04]\n",
      " [-8.79805375e-05  2.59368913e-04]\n",
      " [-8.79805375e-05  2.59368913e-04]\n",
      " [ 3.69716960e-04 -9.89607186e-04]\n",
      " [-8.79805375e-05  2.59368913e-04]\n",
      " [-3.30403127e-05  1.09446686e-04]\n",
      " [-8.79805375e-05  2.59368913e-04]\n",
      " [-8.79805375e-05  2.59368913e-04]\n",
      " [-8.79805375e-05  2.59368913e-04]\n",
      " [-8.79805375e-05  2.59368913e-04]\n",
      " [-8.79805375e-05  2.59368913e-04]\n",
      " [-8.79805375e-05  2.59368913e-04]\n",
      " [-8.79805375e-05  2.59368913e-04]\n",
      " [ 1.90982886e-04 -5.01873263e-04]\n",
      " [-8.79805375e-05  2.59368913e-04]\n",
      " [-1.16483425e-05  5.10717509e-05]\n",
      " [-8.79805375e-05  2.59368913e-04]\n",
      " [ 5.92961907e-04 -1.59880333e-03]\n",
      " [-8.79805375e-05  2.59368913e-04]\n",
      " [-8.79805375e-05  2.59368913e-04]\n",
      " [-8.79805375e-05  2.59368913e-04]\n",
      " [-8.79805375e-05  2.59368913e-04]\n",
      " [-8.79805375e-05  2.59368913e-04]\n",
      " [-8.79805375e-05  2.59368913e-04]\n",
      " [-8.79805375e-05  2.59368913e-04]\n",
      " [ 4.53939254e-04 -1.21943490e-03]\n",
      " [-8.79805375e-05  2.59368913e-04]\n",
      " [-8.79805375e-05  2.59368913e-04]\n",
      " [-8.79805375e-05  2.59368913e-04]\n",
      " [-1.66663714e-03 -1.52943879e-02]\n",
      " [-8.79805375e-05  2.59368913e-04]\n",
      " [-8.79805375e-05  2.59368913e-04]\n",
      " [-8.79805375e-05  2.59368913e-04]\n",
      " [-8.79805375e-05  2.59368913e-04]\n",
      " [-8.79805375e-05  2.59368913e-04]\n",
      " [-8.79805375e-05  2.59368913e-04]\n",
      " [ 1.50023145e-04 -3.90101341e-04]\n",
      " [-8.79805375e-05  2.59368913e-04]\n",
      " [-8.79805375e-05  2.59368913e-04]\n",
      " [-8.79805375e-05  2.59368913e-04]\n",
      " [ 3.44379194e-04 -9.20464867e-04]\n",
      " [ 1.28419808e-04 -6.88121188e-04]\n",
      " [-8.79805375e-05  2.59368913e-04]\n",
      " [-8.79805375e-05  2.59368913e-04]\n",
      " [-8.79805375e-05  2.59368913e-04]\n",
      " [-8.79805375e-05  2.59368913e-04]\n",
      " [-2.29469879e-06  2.55472987e-05]\n",
      " [-1.19700002e-04 -5.31479600e-05]\n",
      " [-8.79805375e-05  2.59368913e-04]\n",
      " [ 3.50622518e-04 -9.37501783e-04]\n",
      " [ 3.88407410e-04 -1.04061014e-03]\n",
      " [-8.79805375e-05  2.59368913e-04]\n",
      " [-8.79805375e-05  2.59368913e-04]\n",
      " [-8.79805375e-05  2.59368913e-04]\n",
      " [ 5.16570813e-04 -1.39034551e-03]\n",
      " [-8.79805375e-05  2.59368913e-04]\n",
      " [-1.22618512e-05  5.27459197e-05]\n",
      " [-8.79805375e-05  2.59368913e-04]\n",
      " [ 8.21873327e-05 -2.04989308e-04]\n",
      " [-8.79805375e-05  2.59368913e-04]\n",
      " [-8.79805375e-05  2.59368913e-04]\n",
      " [ 2.38361594e-04 -6.31161442e-04]\n",
      " [-8.79805375e-05  2.59368913e-04]\n",
      " [-8.79805375e-05  2.59368913e-04]]\n",
      "[[-1.45081140e-05  1.67085702e-04]\n",
      " [-1.45081140e-05  1.67085702e-04]\n",
      " [ 4.70473431e-03  5.59252512e-04]\n",
      " [-1.45081140e-05  1.67085702e-04]\n",
      " [-1.45081140e-05  1.67085702e-04]\n",
      " [-1.45081140e-05  1.67085702e-04]\n",
      " [-1.45081140e-05  1.67085702e-04]\n",
      " [ 5.99113446e-06  1.41575685e-04]\n",
      " [-1.45081140e-05  1.67085702e-04]\n",
      " [-1.45081140e-05  1.67085702e-04]\n",
      " [-1.45081140e-05  1.67085702e-04]\n",
      " [-1.45081140e-05  1.67085702e-04]\n",
      " [-1.45081140e-05  1.67085702e-04]\n",
      " [-1.45081140e-05  1.67085702e-04]\n",
      " [-1.45081140e-05  1.67085702e-04]\n",
      " [-1.45081140e-05  1.67085702e-04]\n",
      " [-1.45081140e-05  1.67085702e-04]\n",
      " [-1.45081140e-05  1.67085702e-04]\n",
      " [ 1.06985288e-04  1.58948242e-05]\n",
      " [ 8.02751092e-05  3.60582926e-05]\n",
      " [ 8.77640923e-06  1.38109579e-04]\n",
      " [ 5.42359558e-05  8.15380408e-05]\n",
      " [ 1.08435008e-04  1.40907359e-05]\n",
      " [-1.45081140e-05  1.67085702e-04]\n",
      " [-1.45081140e-05  1.67085702e-04]\n",
      " [-1.45081140e-05  1.67085702e-04]\n",
      " [-1.45081140e-05  1.67085702e-04]\n",
      " [-1.45081140e-05  1.67085702e-04]\n",
      " [-1.45081140e-05  1.67085702e-04]\n",
      " [-1.45081140e-05  1.67085702e-04]\n",
      " [-1.45081140e-05  1.67085702e-04]\n",
      " [ 3.43449938e-06  1.44757243e-04]\n",
      " [-1.45081140e-05  1.67085702e-04]\n",
      " [-1.45081140e-05  1.67085702e-04]\n",
      " [-1.45081140e-05  1.67085702e-04]\n",
      " [-1.45081140e-05  1.67085702e-04]\n",
      " [ 4.80011440e-05  8.92968674e-05]\n",
      " [-1.45081140e-05  1.67085702e-04]\n",
      " [-1.45081140e-05  1.67085702e-04]\n",
      " [ 5.38264358e-05  8.20476635e-05]\n",
      " [-1.45081140e-05  1.67085702e-04]\n",
      " [-6.30550130e-06  1.56878072e-04]\n",
      " [-1.45081140e-05  1.67085702e-04]\n",
      " [-1.45081140e-05  1.67085702e-04]\n",
      " [-1.45081140e-05  1.67085702e-04]\n",
      " [-1.45081140e-05  1.67085702e-04]\n",
      " [-1.45081140e-05  1.67085702e-04]\n",
      " [-1.45081140e-05  1.67085702e-04]\n",
      " [-1.45081140e-05  1.67085702e-04]\n",
      " [ 2.71413155e-05  1.15255614e-04]\n",
      " [-1.45081140e-05  1.67085702e-04]\n",
      " [-3.11166514e-06  1.52903536e-04]\n",
      " [-1.45081140e-05  1.67085702e-04]\n",
      " [ 8.71570519e-05  4.05698083e-05]\n",
      " [-1.45081140e-05  1.67085702e-04]\n",
      " [-1.45081140e-05  1.67085702e-04]\n",
      " [-1.45081140e-05  1.67085702e-04]\n",
      " [-1.45081140e-05  1.67085702e-04]\n",
      " [-1.45081140e-05  1.67085702e-04]\n",
      " [-1.45081140e-05  1.67085702e-04]\n",
      " [-1.45081140e-05  1.67085702e-04]\n",
      " [ 6.64008767e-05  6.63995670e-05]\n",
      " [-1.45081140e-05  1.67085702e-04]\n",
      " [-1.45081140e-05  1.67085702e-04]\n",
      " [-1.45081140e-05  1.67085702e-04]\n",
      " [-4.82579507e-03  4.08048974e-03]\n",
      " [-1.45081140e-05  1.67085702e-04]\n",
      " [-1.45081140e-05  1.67085702e-04]\n",
      " [-1.45081140e-05  1.67085702e-04]\n",
      " [-1.45081140e-05  1.67085702e-04]\n",
      " [-1.45081140e-05  1.67085702e-04]\n",
      " [-1.45081140e-05  1.67085702e-04]\n",
      " [ 2.10259968e-05  1.22865735e-04]\n",
      " [-1.45081140e-05  1.67085702e-04]\n",
      " [-1.45081140e-05  1.67085702e-04]\n",
      " [-1.45081140e-05  1.67085702e-04]\n",
      " [ 5.00434908e-05  8.67553026e-05]\n",
      " [-1.36295729e-03  7.65086035e-04]\n",
      " [-1.45081140e-05  1.67085702e-04]\n",
      " [-1.45081140e-05  1.67085702e-04]\n",
      " [-1.45081140e-05  1.67085702e-04]\n",
      " [-1.45081140e-05  1.67085702e-04]\n",
      " [-1.71515967e-06  1.51165674e-04]\n",
      " [-1.11179834e-04  2.45716539e-04]\n",
      " [-1.45081140e-05  1.67085702e-04]\n",
      " [ 5.09756210e-05  8.55953185e-05]\n",
      " [ 5.66169329e-05  7.85750672e-05]\n",
      " [-1.45081140e-05  1.67085702e-04]\n",
      " [-1.45081140e-05  1.67085702e-04]\n",
      " [-1.45081140e-05  1.67085702e-04]\n",
      " [ 7.57518064e-05  5.47629170e-05]\n",
      " [-1.45081140e-05  1.67085702e-04]\n",
      " [-3.20326308e-06  1.53017521e-04]\n",
      " [-1.45081140e-05  1.67085702e-04]\n",
      " [ 1.08980639e-05  1.35469309e-04]\n",
      " [-1.45081140e-05  1.67085702e-04]\n",
      " [-1.45081140e-05  1.67085702e-04]\n",
      " [ 3.42149870e-05  1.06452870e-04]\n",
      " [-1.45081140e-05  1.67085702e-04]\n",
      " [-1.45081140e-05  1.67085702e-04]]\n",
      "[[ 1.5007135e+00 -2.5493160e-01]\n",
      " [-8.3180660e-01 -3.0605483e-01]\n",
      " [ 2.8517357e-01  1.1892481e-01]\n",
      " [ 1.9778146e-01  1.2736439e+00]\n",
      " [-1.4507697e+00  1.0408814e+00]\n",
      " [-6.7964561e-02  1.7083317e-01]\n",
      " [ 5.0801104e-01 -3.0498508e-01]\n",
      " [ 8.4388718e-02 -6.8850264e-02]\n",
      " [ 1.2203012e+00 -1.3543737e+00]\n",
      " [ 1.1433285e+00  1.4063473e+00]\n",
      " [-2.7229649e-01 -4.2702299e-01]\n",
      " [-2.7476320e-01 -3.1715855e-01]\n",
      " [ 2.5131249e-01 -3.6992469e-01]\n",
      " [ 5.4993397e-01 -1.1702560e+00]\n",
      " [-1.1522654e+00 -1.6880589e+00]\n",
      " [ 2.1740703e-01  2.0116751e-01]\n",
      " [-8.0590516e-02 -5.7909715e-01]\n",
      " [ 5.8864770e-03  1.1377299e+00]\n",
      " [ 1.6180333e+00  4.6316171e-01]\n",
      " [ 4.4652393e-01 -1.5322527e-02]\n",
      " [-1.5994479e-01  1.9286479e+00]\n",
      " [-2.5126579e-01 -5.1576400e-01]\n",
      " [ 9.4449341e-01 -2.3299863e+00]\n",
      " [ 4.1467279e-01 -1.6112664e+00]\n",
      " [-5.7672822e-01 -9.5581013e-01]\n",
      " [-1.8853691e+00 -1.0008310e+00]\n",
      " [-9.8034549e-01 -2.0958841e+00]\n",
      " [-4.3025043e-02 -2.3009609e-01]\n",
      " [-9.8676689e-04 -1.1382809e+00]\n",
      " [ 1.7724271e+00 -4.1923590e-02]\n",
      " [ 1.3411978e+00 -3.5720149e-01]\n",
      " [-1.3180605e-01 -5.8145702e-01]\n",
      " [ 8.6530191e-01  3.4941784e-01]\n",
      " [ 8.6197102e-01  1.1237984e+00]\n",
      " [-6.2694088e-02 -1.4167202e+00]\n",
      " [ 4.4518816e-01 -1.3822489e+00]\n",
      " [-1.3679071e-01  2.9684126e-01]\n",
      " [ 1.8012002e-01 -5.1927787e-01]\n",
      " [ 3.5029715e-01 -2.1191750e+00]\n",
      " [-8.9839689e-02  1.7698150e+00]\n",
      " [ 1.0874423e+00 -1.7161504e+00]\n",
      " [-1.2527226e+00  1.5848632e+00]\n",
      " [-7.5361121e-01  3.1964451e-01]\n",
      " [-5.8360904e-02 -2.0701339e-02]\n",
      " [-7.8744388e-01  1.1433786e+00]\n",
      " [ 5.6203383e-01  4.5745713e-01]\n",
      " [-1.2342203e+00  1.5207590e-01]\n",
      " [-1.1382130e+00  3.1739718e-01]\n",
      " [ 2.4879058e-01  7.1673609e-02]\n",
      " [-7.1711785e-01 -6.1154842e-01]\n",
      " [-9.9091297e-01  6.4269763e-01]\n",
      " [-8.1001215e-02  6.7790186e-01]\n",
      " [ 4.9094296e-01 -5.0912040e-01]\n",
      " [-3.2646006e-01  6.6244727e-01]\n",
      " [-1.1497624e+00 -1.2181625e+00]\n",
      " [-8.7855622e-02 -2.6364687e-01]\n",
      " [-7.7740341e-01  4.5813814e-01]\n",
      " [-6.2125319e-01 -4.6136994e-02]\n",
      " [-1.5513258e+00 -3.6643636e-01]\n",
      " [-3.7104183e-01 -6.6475177e-01]\n",
      " [ 8.7227893e-01  1.0699027e+00]\n",
      " [ 3.7227815e-01  3.3941757e-02]\n",
      " [-5.7221395e-01 -3.0935916e-01]\n",
      " [-1.6086673e+00 -1.5826710e+00]\n",
      " [ 3.5471466e-01 -5.0825393e-01]\n",
      " [-4.3889886e-01 -1.7508273e+00]\n",
      " [ 8.8631612e-01 -1.3924440e+00]\n",
      " [-2.5764915e-01 -1.5781606e+00]\n",
      " [-5.0477928e-01 -1.0048890e+00]\n",
      " [-3.5511857e-01 -8.4536856e-01]\n",
      " [-7.8425938e-01  1.4238666e+00]\n",
      " [ 5.4566872e-01  1.6242280e+00]\n",
      " [-1.3275431e-01  1.5887842e-01]\n",
      " [ 9.4842708e-01  2.0413234e+00]\n",
      " [-1.8745391e-01 -7.3969537e-01]\n",
      " [-3.5290533e-01  3.4631124e-01]\n",
      " [ 1.9529624e-01 -8.4195292e-01]\n",
      " [-5.9224015e-01  1.0491363e+00]\n",
      " [ 9.4082937e-02  5.8310884e-01]\n",
      " [ 2.0432295e-02 -1.9602376e+00]\n",
      " [-1.7320949e+00  1.5734033e-01]\n",
      " [-2.1072206e+00 -5.7984960e-01]\n",
      " [-1.3610663e+00 -3.7719828e-01]\n",
      " [ 9.7524010e-02  1.1968341e+00]\n",
      " [-1.4539368e-01 -1.4805211e+00]\n",
      " [ 1.9170286e-01 -2.2079277e-01]\n",
      " [-8.7051702e-01 -1.0380973e+00]\n",
      " [ 1.1347127e+00  5.7562447e-01]\n",
      " [-1.1083654e+00 -1.6754643e+00]\n",
      " [-2.3553778e-01  2.6983330e-01]\n",
      " [-1.3341684e+00 -2.3497429e+00]\n",
      " [ 1.0489041e+00  9.7801358e-01]\n",
      " [-5.7778680e-01 -1.1125634e+00]\n",
      " [-2.7833742e-01 -1.6998198e+00]\n",
      " [-2.3424649e-01  2.0715497e-01]\n",
      " [-2.3768294e-01 -1.0399667e+00]\n",
      " [ 1.7290395e-01 -8.7114286e-01]\n",
      " [ 1.0089038e-01 -1.7443649e-01]\n",
      " [-5.3338903e-01 -5.3101522e-01]\n",
      " [-1.2298899e+00 -5.2515842e-02]]\n"
     ]
    }
   ],
   "source": [
    "print(out_encoder[0])\n",
    "print(out_encoder[1])\n",
    "print(out_encoder[2])\n",
    "#np.reshape(out_encoder[0],[imag_size,imag_size])"
   ]
  },
  {
   "cell_type": "code",
   "execution_count": null,
   "metadata": {},
   "outputs": [],
   "source": []
  }
 ],
 "metadata": {
  "kernelspec": {
   "display_name": "Python 3",
   "language": "python",
   "name": "python3"
  },
  "language_info": {
   "codemirror_mode": {
    "name": "ipython",
    "version": 3
   },
   "file_extension": ".py",
   "mimetype": "text/x-python",
   "name": "python",
   "nbconvert_exporter": "python",
   "pygments_lexer": "ipython3",
   "version": "3.6.7"
  }
 },
 "nbformat": 4,
 "nbformat_minor": 2
}
