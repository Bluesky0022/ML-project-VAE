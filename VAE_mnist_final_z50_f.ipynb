{
 "cells": [
  {
   "cell_type": "code",
   "execution_count": 1,
   "metadata": {},
   "outputs": [
    {
     "name": "stderr",
     "output_type": "stream",
     "text": [
      "Using TensorFlow backend.\n"
     ]
    }
   ],
   "source": [
    "from __future__ import absolute_import\n",
    "from __future__ import division\n",
    "from __future__ import print_function\n",
    "\n",
    "from keras.layers import Conv2D,Conv2DTranspose,Flatten,Lambda, Input, Dense,Reshape\n",
    "from keras.models import Model\n",
    "from keras.datasets import mnist\n",
    "from keras.losses import mse, binary_crossentropy\n",
    "from keras.utils import plot_model\n",
    "from keras import backend as K\n",
    "from keras import optimizers\n",
    "\n",
    "import numpy as np\n",
    "import matplotlib.pyplot as plt\n",
    "import argparse\n",
    "import os"
   ]
  },
  {
   "cell_type": "code",
   "execution_count": 2,
   "metadata": {},
   "outputs": [],
   "source": [
    "def sampling(args):\n",
    "    z_mean,var_log = args\n",
    "    batch=K.shape(z_mean)[0]\n",
    "    dim=K.int_shape(z_mean)[1]\n",
    "    epsilon=K.random_normal(shape=(batch,dim))\n",
    "    return z_mean+K.exp(0.5*var_log)*epsilon"
   ]
  },
  {
   "cell_type": "code",
   "execution_count": 3,
   "metadata": {},
   "outputs": [],
   "source": [
    "# MNIST dataset\n",
    "(x_train, y_train), (x_test, y_test) = mnist.load_data()\n",
    "\n",
    "imag_size = x_train.shape[1]\n",
    "x_train = np.reshape(x_train, [-1, imag_size,imag_size,1])\n",
    "x_test = np.reshape(x_test, [-1,  imag_size,imag_size,1])\n",
    "x_train = x_train.astype('float32') / 255\n",
    "x_test = x_test.astype('float32') / 255\n",
    "\n",
    "\n",
    "# network parameters\n",
    "batch_size = 128\n",
    "dim_latent = 50\n",
    "epochs = 50"
   ]
  },
  {
   "cell_type": "code",
   "execution_count": 4,
   "metadata": {},
   "outputs": [],
   "source": [
    "def build_encoder(inputs):\n",
    "    #inputs=Input(shape=(imag_size,imag_size,1),name='encoder_input')\n",
    "    z_mean,z_log_var,z,shape0=get_z_sample(inputs)\n",
    "    encoder=Model(inputs,[z_mean,z_log_var,z],name='encoder')\n",
    "    encoder.summary()\n",
    "    return encoder,shape0"
   ]
  },
  {
   "cell_type": "code",
   "execution_count": 5,
   "metadata": {},
   "outputs": [],
   "source": [
    "#encoder,shape0=build_encoder()"
   ]
  },
  {
   "cell_type": "code",
   "execution_count": 6,
   "metadata": {},
   "outputs": [],
   "source": [
    "def build_decoder(inputs,shape0):\n",
    "    #inputs=Input(shape=(dim_latent,),name='latent_input')\n",
    "    x=Dense(shape0[1] * shape0[2] * shape0[3], activation='relu')(inputs)\n",
    "    x=Reshape((shape0[1],shape0[2],shape0[3]))(x)\n",
    "    x=Conv2DTranspose(filters=nfilters_layer[0],kernel_size=3,strides=2,padding='same',activation='relu')(x)\n",
    "    outputs=Conv2DTranspose(filters=1,kernel_size=3,strides=2,padding='same',activation='sigmoid')(x)\n",
    "    decoder=Model(inputs,outputs,name='decoder')\n",
    "    decoder.summary()\n",
    "    return decoder"
   ]
  },
  {
   "cell_type": "code",
   "execution_count": 7,
   "metadata": {},
   "outputs": [],
   "source": [
    "def build_vae_cnn():\n",
    "    inputs=Input(shape=(imag_size,imag_size,1),name='encoder_input')\n",
    "    nfilters_layer=[32,64]\n",
    "    x=Conv2D(filters=nfilters_layer[0],kernel_size=3,strides=2,padding='same',activation='relu')(inputs)\n",
    "    x=Conv2D(filters=nfilters_layer[1],kernel_size=3,strides=2,padding='same',activation='relu')(x)   \n",
    "    shape0 = K.int_shape(x)\n",
    "    x = Flatten()(x)\n",
    "    x = Dense(int(1.5*dim_latent), activation='relu')(x)\n",
    " \n",
    "    z_mean=Dense(dim_latent,name='z_mean')(x)\n",
    "    z_log_var=Dense(dim_latent,name='z_log_var')(x)\n",
    "    z=Lambda(sampling,output_shape=(dim_latent,),name='layer_z')([z_mean,z_log_var])\n",
    "    encoder = Model(inputs, [z_mean, z_log_var, z], name='encoder')\n",
    "    encoder.summary()\n",
    "    plot_model(encoder,to_file='vae_encoder_model.png',show_shapes=True)\n",
    "    \n",
    "    latent_inputs = Input(shape=(dim_latent,), name='z_sampling')\n",
    "    x = Dense(int(1.5*dim_latent), activation='relu')(latent_inputs)\n",
    "    x = Dense(shape0[1]*shape0[2]*shape0[3], activation='relu')(x)\n",
    "    x = Reshape((shape0[1], shape0[2], shape0[3]))(x)\n",
    "    x=Conv2DTranspose(filters=nfilters_layer[0],kernel_size=3,strides=2,padding='same',activation='relu')(x)\n",
    "    outputs = Conv2DTranspose(filters=1,kernel_size=3,strides=2, activation='sigmoid',padding='same',name='decoder_output')(x)\n",
    "\n",
    "    # instantiate decoder model\n",
    "    decoder = Model(latent_inputs, outputs, name='decoder')\n",
    "    decoder.summary()\n",
    "    plot_model(decoder,to_file='vae_decoder_model.png',show_shapes=True)\n",
    "    \n",
    "    outputs = decoder(encoder(inputs)[2])\n",
    "    vae = Model(inputs, outputs, name='vae_model')\n",
    "    plot_model(vae,to_file='vae_model.png',show_shapes=True)\n",
    "\n",
    "    def vae_loss(inputs,outputs):\n",
    "        reconstruction_loss = binary_crossentropy(K.flatten(inputs),K.flatten(outputs))\n",
    "        reconstruction_loss*= imag_size * imag_size\n",
    "        kl_loss = 1 + z_log_var - K.square(z_mean) - K.exp(z_log_var)\n",
    "        kl_loss = K.sum(kl_loss, axis=-1)\n",
    "        kl_loss *= -0.5\n",
    "        loss = K.mean(reconstruction_loss + kl_loss)\n",
    "        return loss\n",
    "    \n",
    "    vae.compile(optimizer='adam',loss=vae_loss)\n",
    "    return vae"
   ]
  },
  {
   "cell_type": "code",
   "execution_count": 8,
   "metadata": {},
   "outputs": [
    {
     "name": "stdout",
     "output_type": "stream",
     "text": [
      "WARNING:tensorflow:From /Users/Bluesky/anaconda/lib/python3.6/site-packages/keras/backend/tensorflow_backend.py:1264: calling reduce_prod (from tensorflow.python.ops.math_ops) with keep_dims is deprecated and will be removed in a future version.\n",
      "Instructions for updating:\n",
      "keep_dims is deprecated, use keepdims instead\n",
      "__________________________________________________________________________________________________\n",
      "Layer (type)                    Output Shape         Param #     Connected to                     \n",
      "==================================================================================================\n",
      "encoder_input (InputLayer)      (None, 28, 28, 1)    0                                            \n",
      "__________________________________________________________________________________________________\n",
      "conv2d_1 (Conv2D)               (None, 14, 14, 32)   320         encoder_input[0][0]              \n",
      "__________________________________________________________________________________________________\n",
      "conv2d_2 (Conv2D)               (None, 7, 7, 64)     18496       conv2d_1[0][0]                   \n",
      "__________________________________________________________________________________________________\n",
      "flatten_1 (Flatten)             (None, 3136)         0           conv2d_2[0][0]                   \n",
      "__________________________________________________________________________________________________\n",
      "dense_1 (Dense)                 (None, 75)           235275      flatten_1[0][0]                  \n",
      "__________________________________________________________________________________________________\n",
      "z_mean (Dense)                  (None, 50)           3800        dense_1[0][0]                    \n",
      "__________________________________________________________________________________________________\n",
      "z_log_var (Dense)               (None, 50)           3800        dense_1[0][0]                    \n",
      "__________________________________________________________________________________________________\n",
      "layer_z (Lambda)                (None, 50)           0           z_mean[0][0]                     \n",
      "                                                                 z_log_var[0][0]                  \n",
      "==================================================================================================\n",
      "Total params: 261,691\n",
      "Trainable params: 261,691\n",
      "Non-trainable params: 0\n",
      "__________________________________________________________________________________________________\n",
      "_________________________________________________________________\n",
      "Layer (type)                 Output Shape              Param #   \n",
      "=================================================================\n",
      "z_sampling (InputLayer)      (None, 50)                0         \n",
      "_________________________________________________________________\n",
      "dense_2 (Dense)              (None, 75)                3825      \n",
      "_________________________________________________________________\n",
      "dense_3 (Dense)              (None, 3136)              238336    \n",
      "_________________________________________________________________\n",
      "reshape_1 (Reshape)          (None, 7, 7, 64)          0         \n",
      "_________________________________________________________________\n",
      "conv2d_transpose_1 (Conv2DTr (None, 14, 14, 32)        18464     \n",
      "_________________________________________________________________\n",
      "decoder_output (Conv2DTransp (None, 28, 28, 1)         289       \n",
      "=================================================================\n",
      "Total params: 260,914\n",
      "Trainable params: 260,914\n",
      "Non-trainable params: 0\n",
      "_________________________________________________________________\n",
      "WARNING:tensorflow:From /Users/Bluesky/anaconda/lib/python3.6/site-packages/keras/backend/tensorflow_backend.py:1349: calling reduce_mean (from tensorflow.python.ops.math_ops) with keep_dims is deprecated and will be removed in a future version.\n",
      "Instructions for updating:\n",
      "keep_dims is deprecated, use keepdims instead\n",
      "WARNING:tensorflow:From /Users/Bluesky/anaconda/lib/python3.6/site-packages/keras/backend/tensorflow_backend.py:1247: calling reduce_sum (from tensorflow.python.ops.math_ops) with keep_dims is deprecated and will be removed in a future version.\n",
      "Instructions for updating:\n",
      "keep_dims is deprecated, use keepdims instead\n",
      "_________________________________________________________________\n",
      "Layer (type)                 Output Shape              Param #   \n",
      "=================================================================\n",
      "encoder_input (InputLayer)   (None, 28, 28, 1)         0         \n",
      "_________________________________________________________________\n",
      "encoder (Model)              [(None, 50), (None, 50),  261691    \n",
      "_________________________________________________________________\n",
      "decoder (Model)              (None, 28, 28, 1)         260914    \n",
      "=================================================================\n",
      "Total params: 522,605\n",
      "Trainable params: 522,605\n",
      "Non-trainable params: 0\n",
      "_________________________________________________________________\n"
     ]
    }
   ],
   "source": [
    "vae=build_vae_cnn()\n",
    "vae.summary()"
   ]
  },
  {
   "cell_type": "code",
   "execution_count": 10,
   "metadata": {},
   "outputs": [
    {
     "name": "stdout",
     "output_type": "stream",
     "text": [
      "Train on 60000 samples, validate on 10000 samples\n",
      "Epoch 1/50\n",
      "60000/60000 [==============================] - 48s 807us/step - loss: 203.4520 - val_loss: 159.1524\n",
      "Epoch 2/50\n",
      "60000/60000 [==============================] - 41s 686us/step - loss: 142.4327 - val_loss: 129.9336\n",
      "Epoch 3/50\n",
      "60000/60000 [==============================] - 42s 693us/step - loss: 124.0963 - val_loss: 117.8950\n",
      "Epoch 4/50\n",
      "60000/60000 [==============================] - 43s 710us/step - loss: 115.5490 - val_loss: 111.7883\n",
      "Epoch 5/50\n",
      "60000/60000 [==============================] - 42s 693us/step - loss: 111.0211 - val_loss: 108.3518\n",
      "Epoch 6/50\n",
      "60000/60000 [==============================] - 43s 719us/step - loss: 108.2974 - val_loss: 106.7688\n",
      "Epoch 7/50\n",
      "60000/60000 [==============================] - 42s 693us/step - loss: 106.5959 - val_loss: 105.3672\n",
      "Epoch 8/50\n",
      "60000/60000 [==============================] - 43s 712us/step - loss: 105.3288 - val_loss: 104.1398\n",
      "Epoch 9/50\n",
      "60000/60000 [==============================] - 42s 695us/step - loss: 104.3398 - val_loss: 103.1311\n",
      "Epoch 10/50\n",
      "60000/60000 [==============================] - 43s 716us/step - loss: 103.4727 - val_loss: 102.8902\n",
      "Epoch 11/50\n",
      "60000/60000 [==============================] - 42s 692us/step - loss: 102.9403 - val_loss: 102.2497\n",
      "Epoch 12/50\n",
      "60000/60000 [==============================] - 43s 713us/step - loss: 102.4424 - val_loss: 101.7858\n",
      "Epoch 13/50\n",
      "60000/60000 [==============================] - 42s 692us/step - loss: 102.0925 - val_loss: 102.0419\n",
      "Epoch 14/50\n",
      "60000/60000 [==============================] - 43s 719us/step - loss: 101.7821 - val_loss: 101.2092\n",
      "Epoch 15/50\n",
      "60000/60000 [==============================] - 41s 688us/step - loss: 101.5150 - val_loss: 101.2706\n",
      "Epoch 16/50\n",
      "60000/60000 [==============================] - 42s 700us/step - loss: 101.2681 - val_loss: 100.9075\n",
      "Epoch 17/50\n",
      "60000/60000 [==============================] - 42s 707us/step - loss: 101.0554 - val_loss: 100.6628\n",
      "Epoch 18/50\n",
      "60000/60000 [==============================] - 42s 707us/step - loss: 100.7883 - val_loss: 100.9112\n",
      "Epoch 19/50\n",
      "60000/60000 [==============================] - 38s 639us/step - loss: 100.5978 - val_loss: 100.2889\n",
      "Epoch 20/50\n",
      "60000/60000 [==============================] - 19s 320us/step - loss: 100.4842 - val_loss: 100.5040\n",
      "Epoch 21/50\n",
      "60000/60000 [==============================] - 19s 319us/step - loss: 100.2852 - val_loss: 100.0470\n",
      "Epoch 22/50\n",
      "60000/60000 [==============================] - 21s 356us/step - loss: 100.0828 - val_loss: 100.0283\n",
      "Epoch 23/50\n",
      "60000/60000 [==============================] - 20s 328us/step - loss: 99.9112 - val_loss: 99.9774\n",
      "Epoch 24/50\n",
      "60000/60000 [==============================] - 20s 329us/step - loss: 99.8221 - val_loss: 99.8330\n",
      "Epoch 25/50\n",
      "60000/60000 [==============================] - 20s 327us/step - loss: 99.6587 - val_loss: 99.8882\n",
      "Epoch 26/50\n",
      "60000/60000 [==============================] - 22s 360us/step - loss: 99.5575 - val_loss: 99.7702\n",
      "Epoch 27/50\n",
      "60000/60000 [==============================] - 20s 327us/step - loss: 99.4427 - val_loss: 99.6146\n",
      "Epoch 28/50\n",
      "60000/60000 [==============================] - 20s 327us/step - loss: 99.3202 - val_loss: 99.6071\n",
      "Epoch 29/50\n",
      "60000/60000 [==============================] - 20s 327us/step - loss: 99.1828 - val_loss: 99.1840\n",
      "Epoch 30/50\n",
      "60000/60000 [==============================] - 20s 329us/step - loss: 99.1580 - val_loss: 99.2570\n",
      "Epoch 31/50\n",
      "60000/60000 [==============================] - 22s 360us/step - loss: 99.0538 - val_loss: 99.0906\n",
      "Epoch 32/50\n",
      "60000/60000 [==============================] - 20s 328us/step - loss: 98.9214 - val_loss: 99.4084\n",
      "Epoch 33/50\n",
      "60000/60000 [==============================] - 20s 329us/step - loss: 98.8471 - val_loss: 98.9934\n",
      "Epoch 34/50\n",
      "60000/60000 [==============================] - 20s 328us/step - loss: 98.7642 - val_loss: 99.3186\n",
      "Epoch 35/50\n",
      "60000/60000 [==============================] - 22s 360us/step - loss: 98.7108 - val_loss: 98.9627\n",
      "Epoch 36/50\n",
      "60000/60000 [==============================] - 20s 330us/step - loss: 98.5779 - val_loss: 98.7814\n",
      "Epoch 37/50\n",
      "60000/60000 [==============================] - 20s 328us/step - loss: 98.5038 - val_loss: 98.6931\n",
      "Epoch 38/50\n",
      "60000/60000 [==============================] - 20s 329us/step - loss: 98.4223 - val_loss: 98.9763\n",
      "Epoch 39/50\n",
      "60000/60000 [==============================] - 20s 333us/step - loss: 98.3818 - val_loss: 98.8361\n",
      "Epoch 40/50\n",
      "60000/60000 [==============================] - 58s 965us/step - loss: 98.2330 - val_loss: 98.7114\n",
      "Epoch 41/50\n",
      "60000/60000 [==============================] - 20s 330us/step - loss: 98.1757 - val_loss: 98.7206\n",
      "Epoch 42/50\n",
      "60000/60000 [==============================] - 22s 362us/step - loss: 98.1796 - val_loss: 98.7823\n",
      "Epoch 43/50\n",
      "60000/60000 [==============================] - 45s 749us/step - loss: 98.0991 - val_loss: 98.4810\n",
      "Epoch 44/50\n",
      "60000/60000 [==============================] - 120s 2ms/step - loss: 98.0643 - val_loss: 98.7302\n",
      "Epoch 45/50\n",
      "60000/60000 [==============================] - 91s 2ms/step - loss: 97.9936 - val_loss: 98.5461\n",
      "Epoch 46/50\n",
      "60000/60000 [==============================] - 21s 343us/step - loss: 97.9206 - val_loss: 98.5680\n",
      "Epoch 47/50\n",
      "60000/60000 [==============================] - 22s 361us/step - loss: 97.8700 - val_loss: 98.3575\n",
      "Epoch 48/50\n",
      "60000/60000 [==============================] - 110s 2ms/step - loss: 97.7964 - val_loss: 98.2818\n",
      "Epoch 49/50\n",
      "60000/60000 [==============================] - 121s 2ms/step - loss: 97.7932 - val_loss: 98.5175\n",
      "Epoch 50/50\n",
      "60000/60000 [==============================] - 37s 624us/step - loss: 97.7026 - val_loss: 98.0842\n"
     ]
    },
    {
     "data": {
      "text/plain": [
       "<keras.callbacks.History at 0x7f48579c82b0>"
      ]
     },
     "execution_count": 10,
     "metadata": {},
     "output_type": "execute_result"
    }
   ],
   "source": [
    "\n",
    "\n",
    "vae.fit(x_train, x_train,shuffle=True,epochs=epochs,batch_size=batch_size,validation_data=([x_test, x_test]) )    "
   ]
  },
  {
   "cell_type": "code",
   "execution_count": 11,
   "metadata": {},
   "outputs": [],
   "source": [
    "vae.save_weights('vae_model_z50.h5')"
   ]
  },
  {
   "cell_type": "code",
   "execution_count": 12,
   "metadata": {},
   "outputs": [],
   "source": [
    "def plot_figure(models,data,batch_size=32,model_name='vae_mnist'):\n",
    "    encoder,decoder=models\n",
    "    x_test,y_test=data\n",
    "    os.makedirs(model_name,exist_ok=True)\n",
    "    filename=os.path.join(model_name,'vae_mean.png')\n",
    "    z_mean,_,_=encoder.predict(x_test,batch_size=batch_size)\n",
    "    plt.figure(figsize=(12,10))\n",
    "    plt.scatter(z_mean[:,0],z_mean[:,1],c=y_test)\n",
    "    plt.colorbar()\n",
    "    plt.xlabel('z[0]')\n",
    "    plt.ylabel('z[1]')\n",
    "    plt.savefig(filename)\n",
    "    plt.show()\n",
    "    filename=os.path.join(model_name,\"digits_over_latent.png\")\n",
    "    n=20\n",
    "    digit_size=28\n",
    "    figure=np.zeros((digit_size*n,digit_size*n))\n",
    "    grid_x=np.linspace(-4,4,n)\n",
    "    grid_y=np.linspace(-4,4,n)[:,:,-1]\n",
    "    \n",
    "    for i, yi in enumerate(grid_y):\n",
    "        for j, xi in enumerate(grid_x):\n",
    "            z_sample = np.array([[xi, yi]])\n",
    "            x_decoded = decoder.predict(z_sample)\n",
    "            digit = x_decoded[0].reshape(digit_size, digit_size)\n",
    "            figure[i * digit_size: (i + 1) * digit_size,\n",
    "                   j * digit_size: (j + 1) * digit_size] = digit\n",
    "\n",
    "    plt.figure(figsize=(10, 10))\n",
    "    start_range = digit_size // 2\n",
    "    end_range = n * digit_size + start_range + 1\n",
    "    pixel_range = np.arange(start_range, end_range, digit_size)\n",
    "    sample_range_x = np.round(grid_x, 1)\n",
    "    sample_range_y = np.round(grid_y, 1)\n",
    "    plt.xticks(pixel_range, sample_range_x)\n",
    "    plt.yticks(pixel_range, sample_range_y)\n",
    "    plt.xlabel(\"z[0]\")\n",
    "    plt.ylabel(\"z[1]\")\n",
    "    plt.imshow(figure, cmap='Greys_r')\n",
    "    plt.savefig(filename)\n",
    "    plt.show()"
   ]
  },
  {
   "cell_type": "code",
   "execution_count": 13,
   "metadata": {},
   "outputs": [],
   "source": [
    "#plot_figure(models,data,batch_size=batch_size,model_name=\"vae_mlp\")"
   ]
  },
  {
   "cell_type": "code",
   "execution_count": 14,
   "metadata": {},
   "outputs": [
    {
     "name": "stdout",
     "output_type": "stream",
     "text": [
      "(100, 28, 28, 1)\n"
     ]
    }
   ],
   "source": [
    "nsample=100\n",
    "step=20\n",
    "x_test_sample=x_test[range(0,step*nsample,step),:]\n",
    "print(x_test_sample.shape)\n",
    "#x_test_sample=x_test_sample.reshape(-1,784)\n",
    "outputs=vae.predict(x_test_sample,batch_size)"
   ]
  },
  {
   "cell_type": "code",
   "execution_count": 15,
   "metadata": {
    "scrolled": true
   },
   "outputs": [
    {
     "name": "stdout",
     "output_type": "stream",
     "text": [
      "(100, 28, 28)\n"
     ]
    },
    {
     "data": {
      "image/png": "[encoded data removed]",
      "text/plain": [
       "<Figure size 1080x1080 with 64 Axes>"
      ]
     },
     "metadata": {},
     "output_type": "display_data"
    }
   ],
   "source": [
    "outputs=np.reshape(outputs,[-1,28,28])\n",
    "print(outputs.shape)\n",
    "\n",
    "nrow=8\n",
    "ncol=8\n",
    "plt.figure(figsize=(15,15))\n",
    "for i in range(64):\n",
    "    plt.subplot(nrow,ncol,i+1)\n",
    "    plt.imshow(outputs[i],cmap='gray')\n",
    "    plt.axis('off')\n"
   ]
  },
  {
   "cell_type": "code",
   "execution_count": null,
   "metadata": {},
   "outputs": [],
   "source": [
    "out_encoder=encoder.predict(x_test_sample,batch_size)"
   ]
  },
  {
   "cell_type": "code",
   "execution_count": null,
   "metadata": {},
   "outputs": [],
   "source": [
    "print(out_encoder[0])\n",
    "print(out_encoder[1])\n",
    "print(out_encoder[2])\n",
    "#np.reshape(out_encoder[0],[imag_size,imag_size])"
   ]
  },
  {
   "cell_type": "code",
   "execution_count": null,
   "metadata": {},
   "outputs": [],
   "source": []
  }
 ],
 "metadata": {
  "kernelspec": {
   "display_name": "Python 3",
   "language": "python",
   "name": "python3"
  },
  "language_info": {
   "codemirror_mode": {
    "name": "ipython",
    "version": 3
   },
   "file_extension": ".py",
   "mimetype": "text/x-python",
   "name": "python",
   "nbconvert_exporter": "python",
   "pygments_lexer": "ipython3",
   "version": "3.6.7"
  }
 },
 "nbformat": 4,
 "nbformat_minor": 2
}
